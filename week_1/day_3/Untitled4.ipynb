{
  "nbformat": 4,
  "nbformat_minor": 0,
  "metadata": {
    "colab": {
      "provenance": []
    },
    "kernelspec": {
      "name": "python3",
      "display_name": "Python 3"
    },
    "language_info": {
      "name": "python"
    }
  },
  "cells": [
    {
      "cell_type": "code",
      "execution_count": 16,
      "metadata": {
        "colab": {
          "base_uri": "https://localhost:8080/"
        },
        "id": "2cy1m5Vx_fZM",
        "outputId": "68503d24-2248-46a2-c5bd-2e8879dad95e"
      },
      "outputs": [
        {
          "output_type": "stream",
          "name": "stdout",
          "text": [
            "    S.NO      X      Y     Z\n",
            "0      1   13.0   34.0   2.0\n",
            "1      2   12.0   34.0   3.0\n",
            "2      3   14.0   12.0   5.0\n",
            "3      4   23.0    NaN  67.0\n",
            "4      5    NaN    1.0  56.0\n",
            "5      6   12.0    2.0  45.0\n",
            "6      7    NaN   34.0   NaN\n",
            "7      8    NaN   78.0  45.0\n",
            "8      9   16.0  100.0   NaN\n",
            "9     10    2.0  566.0  45.0\n",
            "10    11    3.0    3.0  56.0\n",
            "11    12    NaN    4.0  56.0\n",
            "12    13   12.0    5.0  45.0\n",
            "13    14   12.0    6.0  34.0\n",
            "14    15  167.0   67.0  23.0\n"
          ]
        }
      ],
      "source": [
        "import pandas as pd\n",
        "df=pd.read_csv(\"PYHTON.csv\")\n",
        "df.head()\n",
        "print(df)"
      ]
    },
    {
      "cell_type": "markdown",
      "source": [
        "this is my new notebook !!!\n",
        "**hello**\n",
        "*hello*\n",
        "![My Picture](https://tse2.mm.bing.net/th?id=OIP.7cRYFyLoDEDh4sRtM73vvwHaDg&pid=Api&P=0&h=180)\n",
        "\n",
        "\n",
        "\n",
        "\n"
      ],
      "metadata": {
        "id": "HsVGLlgV_gHD"
      }
    }
  ]
}