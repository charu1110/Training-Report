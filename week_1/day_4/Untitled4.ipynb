{
  "nbformat": 4,
  "nbformat_minor": 0,
  "metadata": {
    "colab": {
      "provenance": []
    },
    "kernelspec": {
      "name": "python3",
      "display_name": "Python 3"
    },
    "language_info": {
      "name": "python"
    }
  },
  "cells": [
    {
      "cell_type": "code",
      "execution_count": 1,
      "metadata": {
        "colab": {
          "base_uri": "https://localhost:8080/"
        },
        "id": "2cy1m5Vx_fZM",
        "outputId": "761645ef-56fd-471f-ec29-edce8e123df2"
      },
      "outputs": [
        {
          "output_type": "stream",
          "name": "stdout",
          "text": [
            "First few rows of the dataset:\n",
            "   MedInc  HouseAge  AveRooms  AveBedrms  Population  AveOccup  Latitude  \\\n",
            "0  8.3252      41.0  6.984127   1.023810       322.0  2.555556     37.88   \n",
            "1  8.3014      21.0  6.238137   0.971880      2401.0  2.109842     37.86   \n",
            "2  7.2574      52.0  8.288136   1.073446       496.0  2.802260     37.85   \n",
            "3  5.6431      52.0  5.817352   1.073059       558.0  2.547945     37.85   \n",
            "4  3.8462      52.0  6.281853   1.081081       565.0  2.181467     37.85   \n",
            "\n",
            "   Longitude  \n",
            "0    -122.23  \n",
            "1    -122.22  \n",
            "2    -122.24  \n",
            "3    -122.25  \n",
            "4    -122.25  \n",
            "\n",
            "Model Coefficients:\n",
            "MedInc: 0.45\n",
            "HouseAge: 0.01\n",
            "AveRooms: -0.12\n",
            "AveBedrms: 0.78\n",
            "Population: -0.00\n",
            "AveOccup: -0.00\n",
            "Latitude: -0.42\n",
            "Longitude: -0.43\n",
            "\n",
            "Mean Squared Error: 0.56\n",
            "R-squared Score: 0.58\n",
            "\n",
            "Model saved as 'housing_model.pkl'\n"
          ]
        }
      ],
      "source": [
        "import pandas as pd\n",
        "import numpy as np\n",
        "from sklearn.datasets import fetch_california_housing\n",
        "from sklearn.model_selection import train_test_split\n",
        "from sklearn.linear_model import LinearRegression\n",
        "from sklearn.metrics import mean_squared_error, r2_score\n",
        "import joblib\n",
        "\n",
        "california = fetch_california_housing()\n",
        "X = california.data\n",
        "y = california.target\n",
        "\n",
        "df = pd.DataFrame(X, columns=california.feature_names)\n",
        "print(\"First few rows of the dataset:\")\n",
        "print(df.head())\n",
        "\n",
        "X_train, X_test, y_train, y_test = train_test_split(X, y, test_size=0.2, random_state=42)\n",
        "\n",
        "\n",
        "model = LinearRegression()\n",
        "model.fit(X_train, y_train)\n",
        "\n",
        "y_pred = model.predict(X_test)\n",
        "\n",
        "mse = mean_squared_error(y_test, y_pred)\n",
        "r2 = r2_score(y_test, y_pred)\n",
        "\n",
        "print(\"\\nModel Coefficients:\")\n",
        "for feature, coef in zip(california.feature_names, model.coef_):\n",
        "    print(f\"{feature}: {coef:.2f}\")\n",
        "print(f\"\\nMean Squared Error: {mse:.2f}\")\n",
        "print(f\"R-squared Score: {r2:.2f}\")\n",
        "\n",
        "joblib.dump(model, 'housing_model.pkl')\n",
        "print(\"\\nModel saved as 'housing_model.pkl'\")"
      ]
    },
    {
      "cell_type": "markdown",
      "source": [
        "LEARNING MACHINE LEARNING\n",
        "\n",
        "\n",
        "\n",
        "\n",
        "\n"
      ],
      "metadata": {
        "id": "HsVGLlgV_gHD"
      }
    }
  ]
}